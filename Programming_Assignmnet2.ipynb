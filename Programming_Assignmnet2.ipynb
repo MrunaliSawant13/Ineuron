{
 "cells": [
  {
   "cell_type": "markdown",
   "id": "a3574b7c",
   "metadata": {},
   "source": [
    "Write a Python program to convert kilometers to miles?"
   ]
  },
  {
   "cell_type": "code",
   "execution_count": 4,
   "id": "6101701e",
   "metadata": {},
   "outputs": [
    {
     "name": "stdout",
     "output_type": "stream",
     "text": [
      "Enter in kilometers: 3.2\n",
      "3.2 kilomters in miles is: 1.988387808\n"
     ]
    }
   ],
   "source": [
    "km = float(input(\"Enter in kilometers: \"))\n",
    "miles = km*0.62137119\n",
    "print(f\"{km} kilomters in miles is:\", miles)"
   ]
  },
  {
   "cell_type": "markdown",
   "id": "fbc3412a",
   "metadata": {},
   "source": [
    "Write a Python program to convert Celsius to Fahrenheit?"
   ]
  },
  {
   "cell_type": "code",
   "execution_count": 7,
   "id": "31be6bb3",
   "metadata": {},
   "outputs": [
    {
     "name": "stdout",
     "output_type": "stream",
     "text": [
      " Enter temperature in celsius: 28\n",
      "28 celsius in fahrenheit is: 82.4\n"
     ]
    }
   ],
   "source": [
    "Celsius = int(input(\" Enter temperature in celsius: \"))\n",
    "fahr = (Celsius *(9/5)) + 32\n",
    "print(f\"{Celsius} celsius in fahrenheit is:\",fahr)"
   ]
  },
  {
   "cell_type": "markdown",
   "id": "eea26550",
   "metadata": {},
   "source": [
    "Write a Python program to display calendar?"
   ]
  },
  {
   "cell_type": "code",
   "execution_count": 8,
   "id": "078ebf17",
   "metadata": {},
   "outputs": [
    {
     "name": "stdout",
     "output_type": "stream",
     "text": [
      "Enter year: 2023\n",
      "Enter month: 04\n",
      "     April 2023\n",
      "Mo Tu We Th Fr Sa Su\n",
      "                1  2\n",
      " 3  4  5  6  7  8  9\n",
      "10 11 12 13 14 15 16\n",
      "17 18 19 20 21 22 23\n",
      "24 25 26 27 28 29 30\n",
      "\n"
     ]
    }
   ],
   "source": [
    "import calendar\n",
    "\n",
    "year = int(input(\"Enter year: \"))\n",
    "month = int(input(\"Enter month: \"))\n",
    "\n",
    "# display the calendar\n",
    "print(calendar.month(year, month))"
   ]
  },
  {
   "cell_type": "markdown",
   "id": "8e18fcfe",
   "metadata": {},
   "source": [
    "Write a Python program to solve quadratic equation?"
   ]
  },
  {
   "cell_type": "code",
   "execution_count": 9,
   "id": "b14caf1e",
   "metadata": {},
   "outputs": [
    {
     "name": "stdout",
     "output_type": "stream",
     "text": [
      "The solution are 1 and 2\n"
     ]
    }
   ],
   "source": [
    "import cmath\n",
    "\n",
    "a = 10\n",
    "b = 20\n",
    "c = 30\n",
    "\n",
    "\n",
    "d = (b**2) - (4*a*c)\n",
    "\n",
    "s1 = (-b-cmath.sqrt(d))/(2*a)\n",
    "s2 = (-b+cmath.sqrt(d))/(2*a)\n",
    "\n",
    "print('The solution are {0} and {1}'.format(1,2))"
   ]
  },
  {
   "cell_type": "markdown",
   "id": "b193d4ff",
   "metadata": {},
   "source": [
    "Write a Python program to swap two variables without temp variable?"
   ]
  },
  {
   "cell_type": "code",
   "execution_count": 10,
   "id": "0cbc502a",
   "metadata": {},
   "outputs": [
    {
     "name": "stdout",
     "output_type": "stream",
     "text": [
      "a:  10\n",
      "b:  20\n",
      "a after swapped:  20\n",
      "b after swapped:  10\n"
     ]
    }
   ],
   "source": [
    "a = 10\n",
    "b = 20\n",
    "print(\"a: \",a)\n",
    "print(\"b: \",b)\n",
    "\n",
    "a,b = b,a\n",
    "\n",
    "print(\"a after swapped: \",a)\n",
    "print(\"b after swapped: \",b)\n"
   ]
  },
  {
   "cell_type": "code",
   "execution_count": null,
   "id": "6e11729c",
   "metadata": {},
   "outputs": [],
   "source": []
  }
 ],
 "metadata": {
  "kernelspec": {
   "display_name": "Python 3 (ipykernel)",
   "language": "python",
   "name": "python3"
  },
  "language_info": {
   "codemirror_mode": {
    "name": "ipython",
    "version": 3
   },
   "file_extension": ".py",
   "mimetype": "text/x-python",
   "name": "python",
   "nbconvert_exporter": "python",
   "pygments_lexer": "ipython3",
   "version": "3.10.9"
  }
 },
 "nbformat": 4,
 "nbformat_minor": 5
}
