{
 "cells": [
  {
   "cell_type": "markdown",
   "id": "b67ed3d1",
   "metadata": {},
   "source": [
    "Write a Python Program to find sum of array?"
   ]
  },
  {
   "cell_type": "code",
   "execution_count": 4,
   "id": "1dcdd9c1",
   "metadata": {},
   "outputs": [
    {
     "name": "stdout",
     "output_type": "stream",
     "text": [
      "sum of array is : 21\n"
     ]
    }
   ],
   "source": [
    "a = [1,2,3,4,5,6]\n",
    "sum = 0\n",
    "for i in range(len(a)):\n",
    "    sum = sum + a[i]\n",
    "print(\"sum of array is :\", sum)"
   ]
  },
  {
   "cell_type": "markdown",
   "id": "84c26fad",
   "metadata": {},
   "source": [
    "Write a Python Program to find largest element in an array?"
   ]
  },
  {
   "cell_type": "code",
   "execution_count": 7,
   "id": "b543147a",
   "metadata": {},
   "outputs": [
    {
     "name": "stdout",
     "output_type": "stream",
     "text": [
      "Largest element in array is:  45\n"
     ]
    }
   ],
   "source": [
    "a = [1,2,33,45,5,6]\n",
    "print(\"Largest element in array is: \",max(a))"
   ]
  },
  {
   "cell_type": "markdown",
   "id": "4cb80d66",
   "metadata": {},
   "source": [
    "Write a Python Program for array rotation?"
   ]
  },
  {
   "cell_type": "code",
   "execution_count": 7,
   "id": "f710a7ab",
   "metadata": {},
   "outputs": [
    {
     "name": "stdout",
     "output_type": "stream",
     "text": [
      "Enter elements of a arr separated by space: 1 2 3 4 5 6\n",
      "Enter no of elements : 3\n",
      "Rotated array is\n",
      "4 5 6 1 2 3 "
     ]
    }
   ],
   "source": [
    "def shiftarray(a,n):\n",
    "      \n",
    "    for j in range(n):\n",
    "        temp = a[0]\n",
    "        for i in range(len(a)-1):\n",
    "            a[i]=a[i+1]\n",
    "    \n",
    "        a[len(a)-1]=temp\n",
    "    \n",
    "    return a\n",
    "\n",
    "arr_raw = input('Enter elements of a arr separated by space: ')\n",
    "arr = arr_raw.split()\n",
    "num = int(input(\"Enter no of elements : \"))\n",
    "print(\"Rotated array is\")\n",
    "myarr = shiftarray(arr,num)\n",
    "for i in range(0, len(arr)): \n",
    "    print(myarr[i], end = ' ')"
   ]
  },
  {
   "cell_type": "markdown",
   "id": "495ce12b",
   "metadata": {},
   "source": [
    "Write a Python Program to Split the array and add the first part to the end?"
   ]
  },
  {
   "cell_type": "code",
   "execution_count": 14,
   "id": "600d9db4",
   "metadata": {},
   "outputs": [
    {
     "name": "stdout",
     "output_type": "stream",
     "text": [
      "Enter elements of a arr separated by space: 1 2 3 4 5 6\n",
      "Enter position : 3\n",
      "After Spliting and adding the first part to the end, the array is: \n",
      "  4   5   6 1   2   3 "
     ]
    }
   ],
   "source": [
    "def splitarray(a, n): \n",
    "    b = a[:n+2]\n",
    "    return (a[n+2::]+b[::])\n",
    "\n",
    "a= input('Enter elements of a arr separated by space: ')\n",
    "position = int(input(\"Enter position : \"))\n",
    "arr = splitarray(a, position)\n",
    "print(\"After Spliting and adding the first part to the end, the array is: \")\n",
    "for i in range(0, len(arr)): \n",
    "    print(arr[i], end = ' ')\n"
   ]
  },
  {
   "cell_type": "markdown",
   "id": "02bc57fa",
   "metadata": {},
   "source": [
    "Write a Python Program to check if given array is Monotonic?"
   ]
  },
  {
   "cell_type": "code",
   "execution_count": 16,
   "id": "55c85381",
   "metadata": {},
   "outputs": [
    {
     "name": "stdout",
     "output_type": "stream",
     "text": [
      "Enter elements of a arr separated by space: 1 2 3 4 5 56\n",
      "Given array is monotonic!\n"
     ]
    }
   ],
   "source": [
    "def check_monotinic(a):\n",
    "    for i in range(len(a)-1):\n",
    "        if a[i]<=a[i+1] or a[i]>=a[i+1]:\n",
    "            T = True\n",
    "        else:\n",
    "            T = False\n",
    "            \n",
    "    return T\n",
    "\n",
    "a= input('Enter elements of a arr separated by space: ')\n",
    "arr = check_monotinic(a)\n",
    "if arr:\n",
    "    print(\"Given array is monotonic!\")\n",
    "else:\n",
    "    print(\"Given array is not monotonic!\")\n",
    "            \n"
   ]
  },
  {
   "cell_type": "code",
   "execution_count": null,
   "id": "5cf74a67",
   "metadata": {},
   "outputs": [],
   "source": []
  }
 ],
 "metadata": {
  "kernelspec": {
   "display_name": "Python 3 (ipykernel)",
   "language": "python",
   "name": "python3"
  },
  "language_info": {
   "codemirror_mode": {
    "name": "ipython",
    "version": 3
   },
   "file_extension": ".py",
   "mimetype": "text/x-python",
   "name": "python",
   "nbconvert_exporter": "python",
   "pygments_lexer": "ipython3",
   "version": "3.10.9"
  }
 },
 "nbformat": 4,
 "nbformat_minor": 5
}
