{
 "cells": [
  {
   "cell_type": "markdown",
   "id": "bc69bf4d",
   "metadata": {},
   "source": [
    "1. Write a Python Program to Find LCM?"
   ]
  },
  {
   "cell_type": "code",
   "execution_count": 7,
   "id": "cfb4eb11",
   "metadata": {},
   "outputs": [
    {
     "name": "stdout",
     "output_type": "stream",
     "text": [
      "Enter Number 1: 24\n",
      "Enter Number 2: 82\n",
      "The L.C.M. is 984\n"
     ]
    }
   ],
   "source": [
    "x = int(input(\"Enter Number 1: \"))\n",
    "y = int(input(\"Enter Number 2: \"))\n",
    "lcm = 0\n",
    "if x > y:\n",
    "       greater = x\n",
    "else:\n",
    "    greater = y\n",
    "while(True):\n",
    "    if((greater % x == 0) and (greater % y == 0)):\n",
    "        lcm = greater\n",
    "        break\n",
    "    greater += 1\n",
    "print(\"The L.C.M. is\", lcm)"
   ]
  },
  {
   "cell_type": "markdown",
   "id": "88fe9ac4",
   "metadata": {},
   "source": [
    "2. Write a Python Program to Find HCF?"
   ]
  },
  {
   "cell_type": "code",
   "execution_count": 9,
   "id": "427a5fe8",
   "metadata": {},
   "outputs": [
    {
     "name": "stdout",
     "output_type": "stream",
     "text": [
      "Enter Number 1: 22\n",
      "Enter Number 2: 68\n",
      "The H.C.F. is 2\n"
     ]
    }
   ],
   "source": [
    "x = int(input(\"Enter Number 1: \"))\n",
    "y = int(input(\"Enter Number 2: \"))\n",
    "hcf = 0\n",
    "if x > y:\n",
    "    smaller = y\n",
    "else:\n",
    "    smaller = x\n",
    "for i in range(1, smaller+1):\n",
    "    if((x % i == 0) and (y % i == 0)):\n",
    "        hcf = i \n",
    "print(\"The H.C.F. is\", hcf)  "
   ]
  },
  {
   "cell_type": "markdown",
   "id": "90efebdf",
   "metadata": {},
   "source": [
    "Write a Python Program to Convert Decimal to Binary, Octal and Hexadecimal?"
   ]
  },
  {
   "cell_type": "code",
   "execution_count": 13,
   "id": "247209d1",
   "metadata": {},
   "outputs": [
    {
     "name": "stdout",
     "output_type": "stream",
     "text": [
      "Enter Number: 23\n",
      "23 in binary is: 0b10111\n",
      "23 in octal is: 0o27\n",
      "23 in hexadecimal is: 0x17\n"
     ]
    }
   ],
   "source": [
    "num = int(input(\"Enter Number: \"))\n",
    "print(f\"{num} in binary is:\",bin(num))\n",
    "print(f\"{num} in octal is:\",oct(num))\n",
    "print(f\"{num} in hexadecimal is:\",hex(num))\n"
   ]
  },
  {
   "cell_type": "markdown",
   "id": "140a5470",
   "metadata": {},
   "source": [
    "Write a Python Program To Find ASCII value of a character?"
   ]
  },
  {
   "cell_type": "code",
   "execution_count": 15,
   "id": "ebf6d4e6",
   "metadata": {},
   "outputs": [
    {
     "name": "stdout",
     "output_type": "stream",
     "text": [
      "Enter Character: M\n",
      "M in ASCII is: 77\n"
     ]
    }
   ],
   "source": [
    "char = str(input(\"Enter Character: \"))\n",
    "print(f\"{char} in ASCII is:\",ord(char))"
   ]
  },
  {
   "cell_type": "markdown",
   "id": "5e7d321f",
   "metadata": {},
   "source": [
    "5. Write a Python Program to Make a Simple Calculator with 4 basic mathematical operations?"
   ]
  },
  {
   "cell_type": "code",
   "execution_count": 18,
   "id": "cb57d440",
   "metadata": {},
   "outputs": [
    {
     "name": "stdout",
     "output_type": "stream",
     "text": [
      "Enter 1st number: 22\n",
      "Enter 2nd number: 34\n",
      "Enter operation: 1) ADD 2)Subtract 3)Divide 4)Multiply2\n",
      "Substraction of 22.0 and 34.0 is: -12.0\n"
     ]
    }
   ],
   "source": [
    "def calc(x,y):\n",
    "    sel = int(input(\"Enter operation: 1) ADD 2)Subtract 3)Divide 4)Multiply\"))\n",
    "    opera = 0\n",
    "    if sel == 1:\n",
    "        opera = x+y\n",
    "        print(f\"Addition of {x} and {y} is:\", opera)\n",
    "    elif sel == 2:\n",
    "        opera = x-y\n",
    "        print(f\"Substraction of {x} and {y} is:\", opera)\n",
    "    elif sel == 3:\n",
    "        opera = x/y\n",
    "        print(f\"Division of {x} and {y} is:\", opera)\n",
    "    elif sel == 4:\n",
    "        opera = x*y\n",
    "        print(f\"Multiplication of {x} and {y} is:\", opera)\n",
    "    else:\n",
    "        print(\"Invalid option!\")\n",
    "        \n",
    "num1 = float(input(\"Enter 1st number: \"))\n",
    "num2 = float(input(\"Enter 2nd number: \"))\n",
    "calc(num1,num2)\n",
    "        "
   ]
  },
  {
   "cell_type": "code",
   "execution_count": null,
   "id": "ff2caf11",
   "metadata": {},
   "outputs": [],
   "source": []
  },
  {
   "cell_type": "code",
   "execution_count": null,
   "id": "3c82abec",
   "metadata": {},
   "outputs": [],
   "source": []
  }
 ],
 "metadata": {
  "kernelspec": {
   "display_name": "Python 3 (ipykernel)",
   "language": "python",
   "name": "python3"
  },
  "language_info": {
   "codemirror_mode": {
    "name": "ipython",
    "version": 3
   },
   "file_extension": ".py",
   "mimetype": "text/x-python",
   "name": "python",
   "nbconvert_exporter": "python",
   "pygments_lexer": "ipython3",
   "version": "3.10.9"
  }
 },
 "nbformat": 4,
 "nbformat_minor": 5
}
