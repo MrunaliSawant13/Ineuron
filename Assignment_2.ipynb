{
 "cells": [
  {
   "cell_type": "markdown",
   "id": "7b982ded",
   "metadata": {},
   "source": [
    "1.What are the two values of the Boolean data type? How do you write them?\n"
   ]
  },
  {
   "cell_type": "markdown",
   "id": "444c1f92",
   "metadata": {},
   "source": [
    "Ans: Two values of boolean data type are: 1) True 2)False\n",
    "     We can write them as: 1) True and 2) False\n",
    "     "
   ]
  },
  {
   "cell_type": "markdown",
   "id": "742d9d32",
   "metadata": {},
   "source": [
    "--------------------------------------------------------------------------------------------------------------------------------"
   ]
  },
  {
   "cell_type": "markdown",
   "id": "d3878af5",
   "metadata": {},
   "source": [
    "2. What are the three different types of Boolean operators?\n",
    "Ans: Three types of boolean operators are: 1)And operator(and) 2)Or operator(or) 3)Not operator(not)"
   ]
  },
  {
   "cell_type": "markdown",
   "id": "3612747e",
   "metadata": {},
   "source": [
    "-------------------------------------------------------------------------------------------------------------------------------"
   ]
  },
  {
   "cell_type": "markdown",
   "id": "6b87a90f",
   "metadata": {},
   "source": [
    "3. Make a list of each Boolean operator's truth tables (i.e. every possible combination of Boolean values for the operator and what it evaluate ).\n",
    "\n",
    "Ans: 1)And operator\n",
    "       "
   ]
  },
  {
   "cell_type": "markdown",
   "id": "3ddabec7",
   "metadata": {},
   "source": [
    "--------------------------------------------------------------------------------------------------------------------------------"
   ]
  },
  {
   "cell_type": "markdown",
   "id": "5c48c119",
   "metadata": {},
   "source": [
    "4. What are the values of the following expressions?\n",
    "(5 > 4) and (3 == 5)\n",
    "Ans: False\n",
    "\n",
    "not (5 > 4)\n",
    "Ans: False\n",
    "\n",
    "(5 > 4) or (3 == 5)\n",
    "Ans:True\n",
    "\n",
    "not ((5 > 4) or (3 == 5))\n",
    "Ans: False\n",
    "\n",
    "(True and True) and (True == False)\n",
    "Ans: False\n",
    "\n",
    "(not False) or (not True)\n",
    "Ans:True"
   ]
  },
  {
   "cell_type": "markdown",
   "id": "632f6859",
   "metadata": {},
   "source": [
    "--------------------------------------------------------------------------------------------------------------------------------"
   ]
  },
  {
   "cell_type": "markdown",
   "id": "373804d1",
   "metadata": {},
   "source": [
    "5. What are the six comparison operators?\n",
    "Ans: 6 comparison operators are:\n",
    "    1) '=='\n",
    "    2) '>'\n",
    "    3) '<'\n",
    "    4) '>='\n",
    "    5) '<='\n",
    "    6) '!='"
   ]
  },
  {
   "cell_type": "markdown",
   "id": "eecb70c3",
   "metadata": {},
   "source": [
    "--------------------------------------------------------------------------------------------------------------------------------"
   ]
  },
  {
   "cell_type": "markdown",
   "id": "5e274ad6",
   "metadata": {},
   "source": [
    "6. How do you tell the difference between the equal to and assignment operators?Describe a condition and when you would use one.\n",
    "**Ans: Equal to operator is denoted as '==' whereas assignment operator is denoted as '='\n",
    "     Equal to operator is used to compare if two values at left and right of operators have same value. For e.g:\n",
    "         5 == 7. Here, it checks whether 5 is same as 7 when compared.\n",
    "     Whereas, Assignment operator is used to assign a value to a variable. For e.g:\n",
    "         a = 10, here, variable 'a' is assigned value '10'.**"
   ]
  },
  {
   "cell_type": "markdown",
   "id": "878feeb5",
   "metadata": {},
   "source": [
    "--------------------------------------------------------------------------------------------------------------------------------"
   ]
  },
  {
   "cell_type": "markdown",
   "id": "90dec132",
   "metadata": {},
   "source": [
    "7. Identify the three blocks in this code:\n",
    "spam = 0\n",
    "if spam == 10:\n",
    "print('eggs')\n",
    "if spam > 5:\n",
    "print('bacon')\n",
    "else:\n",
    "print('ham')\n",
    "print('spam')\n",
    "print('spam')\n"
   ]
  },
  {
   "cell_type": "markdown",
   "id": "e0850bb3",
   "metadata": {},
   "source": [
    "**Ans:**\n",
    "spam = 0\n",
    "\n",
    "if spam == 10:\n",
    "\n",
    "    print('eggs') #Block 1\n",
    "    \n",
    "if spam > 5:\n",
    "\n",
    "    print('bacon') #Block 2\n",
    "    \n",
    "else:\n",
    "\n",
    "    print('ham') #Block 3\n",
    "    print('spam')\n",
    "    print('spam')"
   ]
  },
  {
   "cell_type": "markdown",
   "id": "22f4fc17",
   "metadata": {},
   "source": [
    "--------------------------------------------------------------------------------------------------------------------------------"
   ]
  },
  {
   "cell_type": "markdown",
   "id": "3493bcd0",
   "metadata": {},
   "source": [
    "\n",
    "8. Write code that prints Hello if 1 is stored in spam, prints Howdy if 2 is stored in spam, and prints Greetings! if anything else is stored in spam."
   ]
  },
  {
   "cell_type": "code",
   "execution_count": 25,
   "id": "69c93b32",
   "metadata": {},
   "outputs": [
    {
     "name": "stdout",
     "output_type": "stream",
     "text": [
      "Enter number2\n",
      "Howdy\n"
     ]
    }
   ],
   "source": [
    "spam = int(input(\"Enter number\"))\n",
    "if spam == 1:\n",
    "    print('Hello')\n",
    "elif(spam == 2):\n",
    "        print('Howdy')\n",
    "else:\n",
    "    print('Greetings!')"
   ]
  },
  {
   "cell_type": "markdown",
   "id": "31908d3d",
   "metadata": {},
   "source": [
    "--------------------------------------------------------------------------------------------------------------------------------"
   ]
  },
  {
   "cell_type": "markdown",
   "id": "1ac786fe",
   "metadata": {},
   "source": [
    "9.If your programme is stuck in an endless loop, what keys you’ll press?\n",
    "\n",
    "**Ans: If your programme is stuck in an endless loop, we shall press 'Ctrl +C'**"
   ]
  },
  {
   "cell_type": "markdown",
   "id": "b21058d5",
   "metadata": {},
   "source": [
    "--------------------------------------------------------------------------------------------------------------------------------"
   ]
  },
  {
   "cell_type": "markdown",
   "id": "fa07711b",
   "metadata": {},
   "source": [
    "10. How can you tell the difference between break and continue?\n",
    "\n",
    "**Ans: The break moves the execution to outside the loop. For example:**"
   ]
  },
  {
   "cell_type": "code",
   "execution_count": 1,
   "id": "73f81764",
   "metadata": {},
   "outputs": [
    {
     "name": "stdout",
     "output_type": "stream",
     "text": [
      "0\n",
      "1\n",
      "2\n",
      "Exit reached\n"
     ]
    }
   ],
   "source": [
    "for a in range(5):\n",
    "    if a == 3:\n",
    "        break\n",
    "    print(a)\n",
    "print(\"Exit reached\")"
   ]
  },
  {
   "cell_type": "markdown",
   "id": "37130471",
   "metadata": {},
   "source": [
    "**The continue moves the execution to start of the loop. For example:**"
   ]
  },
  {
   "cell_type": "code",
   "execution_count": 31,
   "id": "85cdb1c3",
   "metadata": {},
   "outputs": [
    {
     "name": "stdout",
     "output_type": "stream",
     "text": [
      "0\n",
      "1\n",
      "2\n",
      "4\n",
      "Exit reached\n"
     ]
    }
   ],
   "source": [
    "for a in range(5):\n",
    "    if a == 3:\n",
    "        continue\n",
    "    print(a)\n",
    "print(\"Exit reached\")"
   ]
  },
  {
   "cell_type": "markdown",
   "id": "f6aea1bf",
   "metadata": {},
   "source": [
    "--------------------------------------------------------------------------------------------------------------------------------"
   ]
  },
  {
   "cell_type": "markdown",
   "id": "066490ac",
   "metadata": {},
   "source": [
    "11. In a for loop, what is the difference between range(10), range(0, 10), and range(0, 10, 1)?\n",
    "\n",
    "**Ans:** The output of the above three statements will be same. But,\n",
    "\n",
    "        in 'range(10)', the system will consider values from 0 to 10 (excluding 10).\n",
    "        \n",
    "        in 'range(0,10), it tells that start point is zero(0) and end point is '10'(excluding 10).\n",
    "        \n",
    "        in 'range(0,10,1)', it tellse tha tstart point is zero(0) and end point is '10'(excluding 10), with step sizw '1'.\n",
    "        \n",
    "        \n",
    "        "
   ]
  },
  {
   "cell_type": "markdown",
   "id": "53e53193",
   "metadata": {},
   "source": [
    "--------------------------------------------------------------------------------------------------------------------------------"
   ]
  },
  {
   "cell_type": "markdown",
   "id": "9119ba10",
   "metadata": {},
   "source": [
    "12. Write a short program that prints the numbers 1 to 10 using a for loop. Then write an equivalent program that prints the numbers 1 to 10 using a while loop."
   ]
  },
  {
   "cell_type": "code",
   "execution_count": 1,
   "id": "fe1cd141",
   "metadata": {},
   "outputs": [
    {
     "name": "stdout",
     "output_type": "stream",
     "text": [
      "1\n",
      "2\n",
      "3\n",
      "4\n",
      "5\n",
      "6\n",
      "7\n",
      "8\n",
      "9\n",
      "10\n"
     ]
    }
   ],
   "source": [
    "#ans: Using For-Loop\n",
    "for i in range(1,11):\n",
    "        print(i)\n",
    "        "
   ]
  },
  {
   "cell_type": "code",
   "execution_count": 2,
   "id": "61736b0f",
   "metadata": {},
   "outputs": [
    {
     "name": "stdout",
     "output_type": "stream",
     "text": [
      "1\n",
      "2\n",
      "3\n",
      "4\n",
      "5\n",
      "6\n",
      "7\n",
      "8\n",
      "9\n",
      "10\n"
     ]
    }
   ],
   "source": [
    "#ans: Using while-Loop\n",
    "i = 1\n",
    "while i <= 10:\n",
    "    print(i)\n",
    "    i += 1"
   ]
  },
  {
   "cell_type": "markdown",
   "id": "7170ab22",
   "metadata": {},
   "source": [
    "--------------------------------------------------------------------------------------------------------------------------------"
   ]
  },
  {
   "cell_type": "markdown",
   "id": "80437446",
   "metadata": {},
   "source": [
    "13. If you had a function named bacon() inside a module named spam, how would you call it after importing spam?\n",
    "\n",
    "**And:** the function can be called as: spam.bacon()"
   ]
  },
  {
   "cell_type": "code",
   "execution_count": null,
   "id": "670ee933",
   "metadata": {},
   "outputs": [],
   "source": []
  }
 ],
 "metadata": {
  "kernelspec": {
   "display_name": "Python 3 (ipykernel)",
   "language": "python",
   "name": "python3"
  },
  "language_info": {
   "codemirror_mode": {
    "name": "ipython",
    "version": 3
   },
   "file_extension": ".py",
   "mimetype": "text/x-python",
   "name": "python",
   "nbconvert_exporter": "python",
   "pygments_lexer": "ipython3",
   "version": "3.10.9"
  }
 },
 "nbformat": 4,
 "nbformat_minor": 5
}
