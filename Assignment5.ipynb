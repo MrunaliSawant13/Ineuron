{
 "cells": [
  {
   "cell_type": "markdown",
   "id": "dd27928a",
   "metadata": {},
   "source": [
    "1. What does an empty dictionary&#39;s code look like?\n",
    "\n",
    "ANS:empty dictionary&#39;s code look like  {}"
   ]
  },
  {
   "cell_type": "markdown",
   "id": "ad881236",
   "metadata": {},
   "source": [
    "________________________________________________________________________________________________________________________________"
   ]
  },
  {
   "cell_type": "markdown",
   "id": "31560847",
   "metadata": {},
   "source": [
    "2. What is the value of a dictionary value with the key &#39;foo&#39; and the value 42?\n",
    "\n",
    "ANS: value is {'foo':42}"
   ]
  },
  {
   "cell_type": "code",
   "execution_count": 2,
   "id": "3599cba3",
   "metadata": {},
   "outputs": [],
   "source": [
    "dic = {'foo':42}"
   ]
  },
  {
   "cell_type": "markdown",
   "id": "76b89655",
   "metadata": {},
   "source": [
    "________________________________________________________________________________________________________________________________"
   ]
  },
  {
   "cell_type": "markdown",
   "id": "e9af5114",
   "metadata": {},
   "source": [
    "3. What is the most significant distinction between a dictionary and a list?"
   ]
  },
  {
   "cell_type": "markdown",
   "id": "a518f2a1",
   "metadata": {},
   "source": [
    "ANS: the elements/items in dictionary are unordered items with key value pair, while list have ordered items."
   ]
  },
  {
   "cell_type": "markdown",
   "id": "65d5c68e",
   "metadata": {},
   "source": [
    "________________________________________________________________________________________________________________________________"
   ]
  },
  {
   "cell_type": "markdown",
   "id": "0e4abeef",
   "metadata": {},
   "source": [
    "4. What happens if you try to access spam[&#39;foo&#39;] if spam is {&#39;bar&#39;: 100}?\n",
    "\n",
    "we will get the key error as follows:"
   ]
  },
  {
   "cell_type": "code",
   "execution_count": 5,
   "id": "0a68516a",
   "metadata": {},
   "outputs": [],
   "source": [
    "spam =  {'bar': 100}"
   ]
  },
  {
   "cell_type": "code",
   "execution_count": 6,
   "id": "e67164fc",
   "metadata": {},
   "outputs": [
    {
     "ename": "KeyError",
     "evalue": "'foo'",
     "output_type": "error",
     "traceback": [
      "\u001b[1;31m---------------------------------------------------------------------------\u001b[0m",
      "\u001b[1;31mKeyError\u001b[0m                                  Traceback (most recent call last)",
      "Cell \u001b[1;32mIn[6], line 1\u001b[0m\n\u001b[1;32m----> 1\u001b[0m \u001b[43mspam\u001b[49m\u001b[43m[\u001b[49m\u001b[38;5;124;43m'\u001b[39;49m\u001b[38;5;124;43mfoo\u001b[39;49m\u001b[38;5;124;43m'\u001b[39;49m\u001b[43m]\u001b[49m\n",
      "\u001b[1;31mKeyError\u001b[0m: 'foo'"
     ]
    }
   ],
   "source": [
    "spam['foo']"
   ]
  },
  {
   "cell_type": "markdown",
   "id": "68107d2d",
   "metadata": {},
   "source": [
    "________________________________________________________________________________________________________________________________"
   ]
  },
  {
   "cell_type": "markdown",
   "id": "9b23d5a2",
   "metadata": {},
   "source": [
    "5. If a dictionary is stored in spam, what is the difference between the expressions &#39;cat&#39; in spam and\n",
    "&#39;cat&#39; in spam.keys()?"
   ]
  },
  {
   "cell_type": "markdown",
   "id": "92b4a48d",
   "metadata": {},
   "source": [
    "ANS: the  expression 'cat' in spam will check is 'cat' is available in value as well as keys of spam.\n",
    "\n",
    "while expression 'cat' in spam.keys() will search for 'cat' as a key in spam."
   ]
  },
  {
   "cell_type": "markdown",
   "id": "d1fa9221",
   "metadata": {},
   "source": [
    "________________________________________________________________________________________________________________________________"
   ]
  },
  {
   "cell_type": "markdown",
   "id": "9cfa63f0",
   "metadata": {},
   "source": [
    "6. If a dictionary is stored in spam, what is the difference between the expressions &#39;cat&#39; in spam and\n",
    "&#39;cat&#39; in spam.values()?"
   ]
  },
  {
   "cell_type": "markdown",
   "id": "d3ebf8c0",
   "metadata": {},
   "source": [
    "ANS: the  expression 'cat' in spam will check is 'cat' is available in value as well as keys of spam.\n",
    "\n",
    "while expression 'cat' in spam.values() will search for 'cat' as a values in spam."
   ]
  },
  {
   "cell_type": "markdown",
   "id": "fe6c63df",
   "metadata": {},
   "source": [
    "________________________________________________________________________________________________________________________________"
   ]
  },
  {
   "cell_type": "markdown",
   "id": "b6a0e7c8",
   "metadata": {},
   "source": [
    "7. What is a shortcut for the following code?\n",
    "if &#39;color&#39; not in spam:\n",
    "spam[&#39;color&#39;] = &#39;black&#39;"
   ]
  },
  {
   "cell_type": "markdown",
   "id": "5b12601b",
   "metadata": {},
   "source": [
    "ANS: spam.setdefault('color', 'black')"
   ]
  },
  {
   "cell_type": "markdown",
   "id": "a35a914f",
   "metadata": {},
   "source": [
    "________________________________________________________________________________________________________________________________"
   ]
  },
  {
   "cell_type": "markdown",
   "id": "281f73b3",
   "metadata": {},
   "source": [
    "8. How do you &quot;pretty print&quot; dictionary values using which module and function?"
   ]
  },
  {
   "cell_type": "markdown",
   "id": "bc4887e4",
   "metadata": {},
   "source": [
    "pprint.pprint()"
   ]
  },
  {
   "cell_type": "code",
   "execution_count": null,
   "id": "7d32803c",
   "metadata": {},
   "outputs": [],
   "source": []
  }
 ],
 "metadata": {
  "kernelspec": {
   "display_name": "Python 3 (ipykernel)",
   "language": "python",
   "name": "python3"
  },
  "language_info": {
   "codemirror_mode": {
    "name": "ipython",
    "version": 3
   },
   "file_extension": ".py",
   "mimetype": "text/x-python",
   "name": "python",
   "nbconvert_exporter": "python",
   "pygments_lexer": "ipython3",
   "version": "3.10.9"
  }
 },
 "nbformat": 4,
 "nbformat_minor": 5
}
