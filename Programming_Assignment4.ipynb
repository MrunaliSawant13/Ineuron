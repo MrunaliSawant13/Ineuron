{
 "cells": [
  {
   "cell_type": "markdown",
   "id": "0ba9f275",
   "metadata": {},
   "source": [
    "1. Write a Python Program to Find the Factorial of a Number?"
   ]
  },
  {
   "cell_type": "code",
   "execution_count": 18,
   "id": "4ea12818",
   "metadata": {},
   "outputs": [
    {
     "name": "stdout",
     "output_type": "stream",
     "text": [
      "Enter the number: 5\n",
      "Fatorial of 5 is:  120\n"
     ]
    }
   ],
   "source": [
    "m = int(input(\"Enter the number: \"))\n",
    "x = 1\n",
    "if m < 0:\n",
    "    print(\"Fatorial doesn't exist for negative number!\")\n",
    "elif m== 0:\n",
    "    print(\"Fatorial of 0 is 1\")\n",
    "else:\n",
    "    for i in range(m+1):\n",
    "        if i>1:\n",
    "            x = x*i\n",
    "    print(f\"Fatorial of {m} is: \",x)    \n",
    "\n",
    "    "
   ]
  },
  {
   "cell_type": "markdown",
   "id": "58606b7c",
   "metadata": {},
   "source": [
    "2. Write a Python Program to Display the multiplication Table?"
   ]
  },
  {
   "cell_type": "code",
   "execution_count": 23,
   "id": "a9a7fb66",
   "metadata": {},
   "outputs": [
    {
     "name": "stdout",
     "output_type": "stream",
     "text": [
      "Display multiplication table of : 3\n",
      "3 x 1 = 3\n",
      "3 x 2 = 6\n",
      "3 x 3 = 9\n",
      "3 x 4 = 12\n",
      "3 x 5 = 15\n",
      "3 x 6 = 18\n",
      "3 x 7 = 21\n",
      "3 x 8 = 24\n",
      "3 x 9 = 27\n",
      "3 x 10 = 30\n"
     ]
    }
   ],
   "source": [
    "num = int(input(\"Display multiplication table of : \"))\n",
    "\n",
    "for i in range(1,11):\n",
    "    print(f\"{num} x {i} =\",num*i)\n",
    "    \n",
    "    "
   ]
  },
  {
   "cell_type": "markdown",
   "id": "2fb35484",
   "metadata": {},
   "source": [
    "3. Write a Python Program to Print the Fibonacci sequence?"
   ]
  },
  {
   "cell_type": "code",
   "execution_count": 26,
   "id": "e5b8ef05",
   "metadata": {},
   "outputs": [
    {
     "name": "stdout",
     "output_type": "stream",
     "text": [
      "Enter the number : 5\n",
      "0\n",
      "1\n",
      "1\n",
      "2\n",
      "3\n",
      "5\n"
     ]
    }
   ],
   "source": [
    "num = int(input(\"Enter the number : \"))\n",
    "a = 0\n",
    "b = 1\n",
    "c = 0\n",
    "while c<= num:\n",
    "    print(c)\n",
    "    a = b\n",
    "    b = c\n",
    "    c = a+b\n"
   ]
  },
  {
   "cell_type": "markdown",
   "id": "96cab182",
   "metadata": {},
   "source": [
    "4. Write a Python Program to Check Armstrong Number?"
   ]
  },
  {
   "cell_type": "code",
   "execution_count": 2,
   "id": "9e779554",
   "metadata": {},
   "outputs": [
    {
     "name": "stdout",
     "output_type": "stream",
     "text": [
      "Enter the number : 153\n",
      "Number is Armstrong Number!\n"
     ]
    }
   ],
   "source": [
    "num = int(input(\"Enter the number : \"))\n",
    "orgi = num\n",
    "new = 0\n",
    "while (num>0):\n",
    "    new = new + (num%10)*(num%10)*(num%10)\n",
    "    num = num// 10\n",
    "if new == orgi:\n",
    "    print(\"Number is Armstrong Number!\")\n",
    "else:\n",
    "    print(\"Not an Armstrong Number\")"
   ]
  },
  {
   "cell_type": "markdown",
   "id": "53bece2f",
   "metadata": {},
   "source": [
    "5. Write a Python Program to Find Armstrong Number in an Interval?"
   ]
  },
  {
   "cell_type": "code",
   "execution_count": 6,
   "id": "58df3e16",
   "metadata": {},
   "outputs": [
    {
     "name": "stdout",
     "output_type": "stream",
     "text": [
      "Enter the number : 155\n",
      "Armstrong Numbers are: \n",
      "1\n",
      "64\n",
      "125\n",
      "153\n"
     ]
    }
   ],
   "source": [
    "a = int(input(\"Enter the number : \"))\n",
    "print(\"Armstrong Numbers are: \")\n",
    "for num in range(a+1):\n",
    "    orgi = num\n",
    "    new = 0\n",
    "    while (num>0):\n",
    "        new = new + (num%10)*(num%10)*(num%10)\n",
    "        num = num// 10\n",
    "        if new == orgi:\n",
    "            print(f\"{orgi}\")\n",
    "    "
   ]
  },
  {
   "cell_type": "markdown",
   "id": "e0f7bfed",
   "metadata": {},
   "source": [
    "6. Write a Python Program to Find the Sum of Natural Numbers?"
   ]
  },
  {
   "cell_type": "code",
   "execution_count": 10,
   "id": "48d5e3a9",
   "metadata": {},
   "outputs": [
    {
     "name": "stdout",
     "output_type": "stream",
     "text": [
      "Enter the number : 5\n",
      "The sum is 15\n"
     ]
    }
   ],
   "source": [
    "a = int(input(\"Enter the number : \"))\n",
    "if a < 0:\n",
    "       print(\"Enter a positive number\")\n",
    "else:\n",
    "    sum = 0\n",
    "    while(a > 0):\n",
    "        sum += a\n",
    "        a -= 1\n",
    "    print(\"The sum is\", sum)"
   ]
  },
  {
   "cell_type": "code",
   "execution_count": null,
   "id": "dd5ce79d",
   "metadata": {},
   "outputs": [],
   "source": []
  }
 ],
 "metadata": {
  "kernelspec": {
   "display_name": "Python 3 (ipykernel)",
   "language": "python",
   "name": "python3"
  },
  "language_info": {
   "codemirror_mode": {
    "name": "ipython",
    "version": 3
   },
   "file_extension": ".py",
   "mimetype": "text/x-python",
   "name": "python",
   "nbconvert_exporter": "python",
   "pygments_lexer": "ipython3",
   "version": "3.10.9"
  }
 },
 "nbformat": 4,
 "nbformat_minor": 5
}
