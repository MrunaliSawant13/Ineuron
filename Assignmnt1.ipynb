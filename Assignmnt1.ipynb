{
 "cells": [
  {
   "cell_type": "markdown",
   "metadata": {},
   "source": [
    "1.In the below elements which of them are values or an expression? eg:- values can be integer or string and expressions will be mathematical operators.\n",
    "    * \n",
    "    'hello'\n",
    "    -87.8\n",
    "    - \n",
    "    / \n",
    "        +\n",
    "    6 \n"
   ]
  },
  {
   "cell_type": "markdown",
   "metadata": {},
   "source": [
    "**ans**:* -> expression\n",
    "\n",
    " 'hello'  -> value\n",
    " \n",
    "   -87.8   -> value\n",
    "    -      -> expression\n",
    "    /      -> expression\n",
    "        +  -> expression\n",
    "    6      -> value\n"
   ]
  },
  {
   "cell_type": "markdown",
   "metadata": {},
   "source": [
    "2.What is the difference between string and variable?\n",
    "\n",
    "**ans: variable is something where we can store a data, it points to a memory whereas string is a type of data which can be stored in the place where variable is pointing.**"
   ]
  },
  {
   "cell_type": "markdown",
   "metadata": {},
   "source": [
    "3.Describe three different data types.\n",
    "\n",
    "**ans: 1) numbers: this contains integers(int) and floating(float) point numbers.\n",
    "     2) string(str): this can be any sequence of any characters. The characters can be alphabets,numbers, special characters, etc.\n",
    "     3) boolean(bool): This contains two values i.e 'True' or 'False'**"
   ]
  },
  {
   "cell_type": "markdown",
   "metadata": {},
   "source": [
    "4.What is an expression made up of? What do all expressions do?\n",
    "\n",
    "**ans: expressions are made up of values like integers, floating point numbers or strings combined with operators like arithmetic operators, relational operators or logical operators to produce some result in the form of values.**"
   ]
  },
  {
   "cell_type": "markdown",
   "metadata": {},
   "source": [
    "5.This assignment statements, like spam = 10. What is the difference between an expression and a statement?\n",
    "\n",
    "**ans: expression is a combination of values and operators which produce result in the form of values and statement doesn't produce or return any value.** "
   ]
  },
  {
   "cell_type": "markdown",
   "metadata": {},
   "source": [
    "6.After running the following code, what does the variable bacon contain?\n",
    "bacon = 22\n",
    "bacon + 1\n",
    "\n",
    "**ans: the value of bacon remains same that is 22 as we are not reassigning any new value**"
   ]
  },
  {
   "cell_type": "markdown",
   "metadata": {},
   "source": [
    "7.What should the values of the following two terms be?\n",
    "'spam' + 'spamspam'\n",
    "'spam' * 3\n",
    "\n",
    "**ans: output of 'spam' + 'spamspam' --> 'spamspamspam'\n",
    "       output of 'spam' * 3 --> 'spamspamspam'.\n",
    "       please find code below:**"
   ]
  },
  {
   "cell_type": "code",
   "execution_count": 6,
   "metadata": {},
   "outputs": [
    {
     "data": {
      "text/plain": [
       "'spamspamspam'"
      ]
     },
     "execution_count": 6,
     "metadata": {},
     "output_type": "execute_result"
    }
   ],
   "source": [
    "'spam' + 'spamspam'"
   ]
  },
  {
   "cell_type": "code",
   "execution_count": 8,
   "metadata": {},
   "outputs": [
    {
     "data": {
      "text/plain": [
       "'spamspamspam'"
      ]
     },
     "execution_count": 8,
     "metadata": {},
     "output_type": "execute_result"
    }
   ],
   "source": [
    "'spam' * 3"
   ]
  },
  {
   "cell_type": "markdown",
   "metadata": {},
   "source": [
    "8.Why is eggs a valid variable name while 100 is invalid?\n",
    "\n",
    "**ans: because the variable name should start with alphabets or an underscore. and 100 is a numeric value**"
   ]
  },
  {
   "cell_type": "markdown",
   "metadata": {},
   "source": [
    "9.What three functions can be used to get the integer, floating-point number, or string version of a value?\n",
    "\n",
    "**ans: if a value is 50 stored in variable name 'a'. the functions can be used as follow:\n",
    "        for integer        --> int(a)\n",
    "        for floating point --> float(a)\n",
    "        for string         --> str(a)\n",
    "        Please find the same in code below:**"
   ]
  },
  {
   "cell_type": "code",
   "execution_count": 10,
   "metadata": {},
   "outputs": [
    {
     "name": "stdout",
     "output_type": "stream",
     "text": [
      "a as an integer:  50\n",
      "a as a float:  50.0\n",
      "a as a string:  50\n"
     ]
    }
   ],
   "source": [
    "a = 50\n",
    "print(\"a as an integer: \",int(a))\n",
    "print(\"a as a float: \",float(a))\n",
    "print(\"a as a string: \",str(a))\n"
   ]
  },
  {
   "cell_type": "markdown",
   "metadata": {},
   "source": [
    "10.Why does this expression cause an error? How can you fix it?\n",
    "\n",
    "'I have eaten ' + 99 + ' burritos.'\n",
    "\n",
    "**ans: the above expression throws error as we are trying to add string with integer. If we want solution without errorthe number 99 should be in quotes as below:**"
   ]
  },
  {
   "cell_type": "code",
   "execution_count": 12,
   "metadata": {},
   "outputs": [
    {
     "data": {
      "text/plain": [
       "'I have eaten 99 burritos.'"
      ]
     },
     "execution_count": 12,
     "metadata": {},
     "output_type": "execute_result"
    }
   ],
   "source": [
    "'I have eaten ' + '99' + ' burritos.'\n"
   ]
  },
  {
   "cell_type": "code",
   "execution_count": null,
   "metadata": {},
   "outputs": [],
   "source": []
  }
 ],
 "metadata": {
  "kernelspec": {
   "display_name": "Python 3",
   "language": "python",
   "name": "python3"
  },
  "language_info": {
   "codemirror_mode": {
    "name": "ipython",
    "version": 3
   },
   "file_extension": ".py",
   "mimetype": "text/x-python",
   "name": "python",
   "nbconvert_exporter": "python",
   "pygments_lexer": "ipython3",
   "version": "3.7.3"
  }
 },
 "nbformat": 4,
 "nbformat_minor": 2
}
