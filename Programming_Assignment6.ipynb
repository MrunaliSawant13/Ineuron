{
 "cells": [
  {
   "cell_type": "markdown",
   "id": "59a26b01",
   "metadata": {},
   "source": [
    "Write a Python Program to Display Fibonacci Sequence Using Recursion?"
   ]
  },
  {
   "cell_type": "code",
   "execution_count": 7,
   "id": "36e4930e",
   "metadata": {},
   "outputs": [
    {
     "name": "stdout",
     "output_type": "stream",
     "text": [
      "Enter the number : 10\n",
      "0\n",
      "1\n",
      "1\n",
      "2\n",
      "3\n",
      "5\n",
      "8\n",
      "13\n",
      "21\n",
      "34\n"
     ]
    }
   ],
   "source": [
    "def fibo(a):\n",
    "    if a <= 1:\n",
    "        return a\n",
    "    else:\n",
    "        return fibo(a-1) + fibo(a-2)\n",
    "\n",
    "num = int(input(\"Enter the number : \"))\n",
    "for i in range(num):\n",
    "    print(fibo(i))\n"
   ]
  },
  {
   "cell_type": "markdown",
   "id": "57f2ee29",
   "metadata": {},
   "source": [
    "Write a Python Program to Find Factorial of Number Using Recursion?"
   ]
  },
  {
   "cell_type": "code",
   "execution_count": 11,
   "id": "603d7664",
   "metadata": {},
   "outputs": [
    {
     "name": "stdout",
     "output_type": "stream",
     "text": [
      "Enter the number : 5\n",
      "120\n"
     ]
    }
   ],
   "source": [
    "def facto(i):\n",
    "    a = 1\n",
    "    if i == 0:\n",
    "        return 1\n",
    "    elif i>=1:\n",
    "        return i*facto(i-1)\n",
    "            \n",
    "\n",
    "num = int(input(\"Enter the number : \"))\n",
    "print(facto(num))"
   ]
  },
  {
   "cell_type": "markdown",
   "id": "a02fdfa1",
   "metadata": {},
   "source": [
    "Write a Python Program to calculate your Body Mass Index?"
   ]
  },
  {
   "cell_type": "code",
   "execution_count": 18,
   "id": "2dce48bd",
   "metadata": {},
   "outputs": [
    {
     "name": "stdout",
     "output_type": "stream",
     "text": [
      "Enter the weight in kg : 68\n",
      "Enter the height in m : 1.65\n",
      "24.977043158861342\n"
     ]
    }
   ],
   "source": [
    "def bmi(w,h):\n",
    "    h = h*h\n",
    "    return (w/h)\n",
    "\n",
    "weight = int(input(\"Enter the weight in kg : \"))\n",
    "height = float(input(\"Enter the height in m : \"))\n",
    "print(bmi(weight,height))"
   ]
  },
  {
   "cell_type": "markdown",
   "id": "591f15b7",
   "metadata": {},
   "source": [
    "Write a Python Program to calculate the natural logarithm of any number?"
   ]
  },
  {
   "cell_type": "code",
   "execution_count": 1,
   "id": "e5e6deee",
   "metadata": {},
   "outputs": [
    {
     "name": "stdout",
     "output_type": "stream",
     "text": [
      "Enter the number : 5\n",
      "Natural log of 5 is:  1.6094379124341003\n"
     ]
    }
   ],
   "source": [
    "import math\n",
    "\n",
    "num = int(input(\"Enter the number : \"))\n",
    "print(f\"Natural log of {num} is: \",math.log(num))"
   ]
  },
  {
   "cell_type": "markdown",
   "id": "7a02bd43",
   "metadata": {},
   "source": [
    "Write a Python Program for cube sum of first n natural numbers?"
   ]
  },
  {
   "cell_type": "code",
   "execution_count": 4,
   "id": "622cc1a8",
   "metadata": {},
   "outputs": [
    {
     "name": "stdout",
     "output_type": "stream",
     "text": [
      "Enter the number : 5\n",
      "cube sum of first 5 natural numbers is:  101\n"
     ]
    }
   ],
   "source": [
    "def cubesum(n):\n",
    "    a = 1\n",
    "    for i in range(n):\n",
    "        a = a+i*i*i\n",
    "    return a\n",
    "num = int(input(\"Enter the number : \"))\n",
    "print(f\"cube sum of first {num} natural numbers is: \",cubesum(num))"
   ]
  },
  {
   "cell_type": "code",
   "execution_count": null,
   "id": "77df1543",
   "metadata": {},
   "outputs": [],
   "source": []
  }
 ],
 "metadata": {
  "kernelspec": {
   "display_name": "Python 3 (ipykernel)",
   "language": "python",
   "name": "python3"
  },
  "language_info": {
   "codemirror_mode": {
    "name": "ipython",
    "version": 3
   },
   "file_extension": ".py",
   "mimetype": "text/x-python",
   "name": "python",
   "nbconvert_exporter": "python",
   "pygments_lexer": "ipython3",
   "version": "3.10.9"
  }
 },
 "nbformat": 4,
 "nbformat_minor": 5
}
